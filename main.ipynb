{
 "cells": [
  {
   "cell_type": "code",
   "execution_count": 3,
   "metadata": {},
   "outputs": [],
   "source": [
    "\n",
    "from VGDLData.ptb import PTB\n",
    "\n",
    "import torch\n",
    "from loss import VAE_Loss\n",
    "from model import LSTM_VAE\n",
    "from train import Trainer\n",
    "\n",
    "from settings import global_setting, model_setting, training_setting\n",
    "\n",
    "from utils import  interpolate, plot_elbo, get_latent_codes, visualize_latent_codes"
   ]
  },
  {
   "cell_type": "code",
   "execution_count": null,
   "metadata": {},
   "outputs": [],
   "source": [
    "device = \"cuda\" if torch.cuda.is_available() else \"cpu\"\n",
    "torch.manual_seed(global_setting[\"seed\"])\n",
    "\n",
    "batch_size = training_setting[\"batch_size\"]\n",
    "bptt =  training_setting[\"bptt\"]\n",
    "embed_size = model_setting[\"embed_size\"]\n",
    "hidden_size = model_setting[\"hidden_size\"]\n",
    "latent_size =   model_setting[\"latent_size\"]\n",
    "lr = training_setting[\"lr\"]\n",
    "\n",
    "\n",
    "\n",
    "# Load the data\n",
    "train_data = PTB(data_dir=\"./VGDLDataGeneralized\", split=\"train\", create_data= False, max_sequence_length= bptt)\n",
    "test_data = PTB(data_dir=\"./VGDLDataGeneralized\", split=\"test\", create_data= False, max_sequence_length=bptt)\n",
    "valid_data = PTB(data_dir=\"./VGDLDataGeneralized\", split=\"valid\", create_data= False, max_sequence_length= bptt)\n",
    "\n",
    "# Batchify the data\n",
    "train_loader = torch.utils.data.DataLoader( dataset= train_data, batch_size=batch_size, shuffle= True)\n",
    "test_loader = torch.utils.data.DataLoader( dataset= test_data, batch_size= batch_size, shuffle= True)\n",
    "valid_loader = torch.utils.data.DataLoader( dataset= valid_data, batch_size= batch_size, shuffle= True)\n",
    "\n",
    "\n",
    "\n",
    "vocab_size = train_data.vocab_size\n",
    "model = LSTM_VAE(vocab_size = vocab_size, embed_size = embed_size, hidden_size = hidden_size, latent_size = latent_size).to(device)\n",
    "\n",
    "Loss = VAE_Loss()\n",
    "optimizer = torch.optim.Adam(model.parameters(), lr= training_setting[\"lr\"])\n",
    "\n",
    "trainer = Trainer(train_loader, test_loader, model, Loss, optimizer)"
   ]
  },
  {
   "cell_type": "code",
   "execution_count": null,
   "metadata": {},
   "outputs": [],
   "source": [
    "train_losses = []\n",
    "test_losses = []\n",
    "for epoch in range(training_setting[\"epochs\"]):\n",
    "    print(\"Epoch: \", epoch)\n",
    "    print(\"Training.......\")\n",
    "    train_losses = trainer.train(train_losses, epoch, training_setting[\"batch_size\"], training_setting[\"clip\"])\n",
    "    print(\"Testing.......\")\n",
    "    test_losses = trainer.test(test_losses, epoch, training_setting[\"batch_size\"])\n",
    "    if epoch % 50 == 0:\n",
    "        torch.save(model.state_dict(), \"models/VGDL_VAE_GENERALIZED_\" + str(epoch) + \".pt\")\n",
    "\n",
    "\n",
    "plot_elbo(train_losses, \"train\")\n",
    "plot_elbo(test_losses, \"test\")\n",
    "\n",
    "torch.save(model.state_dict(), \"models/VGDL_VAE_GENERALIZED.pt\")\n"
   ]
  },
  {
   "cell_type": "code",
   "execution_count": null,
   "metadata": {},
   "outputs": [],
   "source": []
  }
 ],
 "metadata": {
  "kernelspec": {
   "display_name": "Python 3",
   "language": "python",
   "name": "python3"
  },
  "language_info": {
   "codemirror_mode": {
    "name": "ipython",
    "version": 3
   },
   "file_extension": ".py",
   "mimetype": "text/x-python",
   "name": "python",
   "nbconvert_exporter": "python",
   "pygments_lexer": "ipython3",
   "version": "3.10.12"
  },
  "orig_nbformat": 4,
  "vscode": {
   "interpreter": {
    "hash": "916dbcbb3f70747c44a77c7bcd40155683ae19c65e1c03b4aa3499c5328201f1"
   }
  }
 },
 "nbformat": 4,
 "nbformat_minor": 2
}
